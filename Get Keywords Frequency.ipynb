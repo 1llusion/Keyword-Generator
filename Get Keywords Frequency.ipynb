{
 "cells": [
  {
   "cell_type": "code",
   "execution_count": null,
   "metadata": {},
   "outputs": [],
   "source": [
    "\"\"\"\n",
    "Credit to Madcowe for the idea.\n",
    "\"\"\""
   ]
  },
  {
   "cell_type": "code",
   "execution_count": null,
   "metadata": {},
   "outputs": [],
   "source": [
    "!conda install --yes --prefix {sys.prefix} pandas"
   ]
  },
  {
   "cell_type": "code",
   "execution_count": null,
   "metadata": {},
   "outputs": [],
   "source": [
    "import sys\n",
    "# Scikit-learn used to generate tags\n",
    "!conda install --yes --prefix {sys.prefix} scikit-learn"
   ]
  },
  {
   "cell_type": "code",
   "execution_count": null,
   "metadata": {},
   "outputs": [],
   "source": [
    "!conda install --yes --prefix {sys.prefix} nltk"
   ]
  },
  {
   "cell_type": "code",
   "execution_count": null,
   "metadata": {},
   "outputs": [],
   "source": [
    "# Wikipedia API wrapper to get text\n",
    "!conda install --yes --prefix {sys.prefix} wikipedia"
   ]
  },
  {
   "cell_type": "code",
   "execution_count": null,
   "metadata": {},
   "outputs": [],
   "source": [
    "import wikipedia\n",
    "import re\n",
    "from sklearn.feature_extraction.text import TfidfVectorizer\n",
    "import nltk\n",
    "from nltk.corpus import stopwords\n",
    "from string import punctuation\n",
    "import pandas as pd\n",
    "\n",
    "nltk.download('stopwords')\n",
    "\n",
    "# Initializing variables\n",
    "error = True # If a keyword has multiple meanings, ask for clarification. True so the loop runs at least once (can we please have Do-While in python...?)\n",
    "n_keywords = 10 # How many keywords should it return? Feel free to edit\n",
    "\n",
    "stopwords = stopwords.words('english') + list(punctuation)\n",
    "\n",
    "def get_content(keyword):\n",
    "    wiki = wikipedia.page(keyword)\n",
    "    print(\"\\nFound article\", wiki.title, \"at\", wiki.url)\n",
    "    \n",
    "    return wiki.content\n",
    "\n",
    "while error:\n",
    "    try:\n",
    "        keyword = input(\"Enter a keyword:\")\n",
    "        content = get_content(keyword)\n",
    "        error = False\n",
    "    except wikipedia.DisambiguationError as err:\n",
    "        # Too many articles for given keyword. Give opportunity to refine search\n",
    "        print(\"---\")\n",
    "        print(err)\n",
    "        print(\"--\\nPlease refine your keyword\")\n",
    "\n",
    "vectorizer=TfidfVectorizer(stop_words=stopwords, use_idf=True)\n",
    "X=vectorizer.fit_transform([content])\n",
    "\n",
    "first_vector = X[0]\n",
    "\n",
    "df = pd.DataFrame(first_vector.T.todense(), index=vectorizer.get_feature_names(), columns=[\"tfid\"])\n",
    "df = df.sort_values(by=[\"tfid\"], ascending=False)\n",
    "\n",
    "print(\"\\nYour keywords are:\")\n",
    "\n",
    "df.head(n_keywords)"
   ]
  },
  {
   "cell_type": "code",
   "execution_count": null,
   "metadata": {},
   "outputs": [],
   "source": []
  }
 ],
 "metadata": {
  "kernelspec": {
   "display_name": "Python 3",
   "language": "python",
   "name": "python3"
  },
  "language_info": {
   "codemirror_mode": {
    "name": "ipython",
    "version": 3
   },
   "file_extension": ".py",
   "mimetype": "text/x-python",
   "name": "python",
   "nbconvert_exporter": "python",
   "pygments_lexer": "ipython3",
   "version": "3.7.7"
  }
 },
 "nbformat": 4,
 "nbformat_minor": 4
}
